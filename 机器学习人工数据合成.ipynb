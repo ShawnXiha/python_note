{
 "cells": [
  {
   "cell_type": "markdown",
   "metadata": {},
   "source": [
    "# Numpy dataset generator"
   ]
  },
  {
   "cell_type": "code",
   "execution_count": 1,
   "metadata": {
    "collapsed": true
   },
   "outputs": [],
   "source": [
    "import numpy as np \n",
    "\n",
    "def load_testing(size=5, length=10000, classes=3):\n",
    "    # Super-duper important: set a seed so you always have the same data over multiple runs.\n",
    "    np.random.seed(123)\n",
    "    \n",
    "    # 生成0,1间的随机数.\n",
    "    # The size determines the amount of input values.\n",
    "    x=[]\n",
    "    for i in range (0, length):\n",
    "        x.append(np.asarray(np.random.uniform(low=0, high=1, size=size), dtype='float64'))# np.random.uniform 两个数之间均匀分布的数中抽取数\n",
    "    \n",
    "    # 将这些随机数分割为 training/test/validation sets.\n",
    "    train_set_x = x[:int(len(x)*0.6)]\n",
    "    test_set_x = x[int(len(x)*0.6):int(len(x)*0.8)]\n",
    "    valid_set_x = x[int(len(x)*0.8):]      \n",
    "        \n",
    "    # For each input in x, we will generate a class for y.\n",
    "    # If classes is set to less than or equal to 1, it will output real numbers\n",
    "    # for regression.\n",
    "    y=[]\n",
    "    for row in x:\n",
    "        row_tmp = list()\n",
    "        for i in range(0, len(row)):\n",
    "            row_tmp.append(row[i] * 2. - 1)\n",
    "            row_tmp[i] = (np.tanh(row_tmp[i])) * (i+1)\n",
    "            \n",
    "        output = np.sin(np.mean(row_tmp))\n",
    "        \n",
    "        # If classes > 1 we will output classes, else we output real numbers.\n",
    "        if (classes > 1):\n",
    "            classnum = 0\n",
    "            \n",
    "            # Generate class limits depending on the amount of classes you want.\n",
    "            classranges = np.arange(-1,1,(2./float(classes)))[::-1]\n",
    "            for i in classranges:\n",
    "                if (output >= i):\n",
    "                    y.append(classnum)\n",
    "                    break\n",
    "                classnum = classnum + 1\n",
    "        else:\n",
    "            y.append(output)\n",
    "        \n",
    "    # Convert Y to a numpy array and split it up into train/test/validation sets.\n",
    "    y = np.asarray(y)    \n",
    "    train_set_y = y[:int(len(x)*0.6)]\n",
    "    test_set_y = y[int(len(x)*0.6):int(len(x)*0.8)]\n",
    "    valid_set_y = y[int(len(x)*0.8):]  \n",
    "    \n",
    "    # Return the dataset in pairs of x,y for train/test/validation sets.\n",
    "    rval = [(train_set_x, train_set_y), (valid_set_x, valid_set_y),\n",
    "            (test_set_x, test_set_y)]\n",
    "    return rval\n"
   ]
  },
  {
   "cell_type": "code",
   "execution_count": null,
   "metadata": {
    "collapsed": true
   },
   "outputs": [],
   "source": []
  }
 ],
 "metadata": {
  "kernelspec": {
   "display_name": "Python 2",
   "language": "python",
   "name": "python2"
  },
  "language_info": {
   "codemirror_mode": {
    "name": "ipython",
    "version": 2
   },
   "file_extension": ".py",
   "mimetype": "text/x-python",
   "name": "python",
   "nbconvert_exporter": "python",
   "pygments_lexer": "ipython2",
   "version": "2.7.12"
  }
 },
 "nbformat": 4,
 "nbformat_minor": 2
}
