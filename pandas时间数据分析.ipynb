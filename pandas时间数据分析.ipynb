{
 "cells": [
  {
   "cell_type": "code",
   "execution_count": 1,
   "metadata": {
    "collapsed": false
   },
   "outputs": [
    {
     "data": {
      "text/plain": [
       "DatetimeIndex(['2011-01-01 00:00:00', '2011-01-01 01:00:00',\n",
       "               '2011-01-01 02:00:00', '2011-01-01 03:00:00',\n",
       "               '2011-01-01 04:00:00'],\n",
       "              dtype='datetime64[ns]', freq='H')"
      ]
     },
     "execution_count": 1,
     "metadata": {},
     "output_type": "execute_result"
    }
   ],
   "source": [
    "# 创建一系列时间\n",
    "import pandas as pd\n",
    "rng = pd.date_range('1/1/2011', periods=72, freq='H')\n",
    "rng[:5]"
   ]
  },
  {
   "cell_type": "code",
   "execution_count": 4,
   "metadata": {
    "collapsed": false
   },
   "outputs": [
    {
     "data": {
      "text/plain": [
       "2011-01-01 00:00:00    0.422239\n",
       "2011-01-01 01:00:00   -0.582188\n",
       "2011-01-01 02:00:00    3.138903\n",
       "2011-01-01 03:00:00    0.109868\n",
       "2011-01-01 04:00:00    0.892963\n",
       "Freq: H, dtype: float64"
      ]
     },
     "execution_count": 4,
     "metadata": {},
     "output_type": "execute_result"
    }
   ],
   "source": [
    "# 使用时间序列数据做index\n",
    "import numpy as np\n",
    "ts = pd.Series(np.random.randn(len(rng)), index=rng)\n",
    "ts.head()"
   ]
  },
  {
   "cell_type": "code",
   "execution_count": 5,
   "metadata": {
    "collapsed": false
   },
   "outputs": [
    {
     "data": {
      "text/plain": [
       "2011-01-01 00:00:00    0.422239\n",
       "2011-01-01 00:45:00    0.422239\n",
       "2011-01-01 01:30:00   -0.582188\n",
       "2011-01-01 02:15:00    3.138903\n",
       "2011-01-01 03:00:00    0.109868\n",
       "Freq: 45T, dtype: float64"
      ]
     },
     "execution_count": 5,
     "metadata": {},
     "output_type": "execute_result"
    }
   ],
   "source": [
    "# 改变时间频率\n",
    "converted = ts.asfreq('45Min', method='pad')\n",
    "converted.head()\n"
   ]
  },
  {
   "cell_type": "code",
   "execution_count": 6,
   "metadata": {
    "collapsed": false
   },
   "outputs": [
    {
     "data": {
      "text/plain": [
       "2011-01-01   -0.252111\n",
       "2011-01-02   -0.010815\n",
       "2011-01-03    0.072465\n",
       "Freq: D, dtype: float64"
      ]
     },
     "execution_count": 6,
     "metadata": {},
     "output_type": "execute_result"
    }
   ],
   "source": [
    "# 每天数据的均值\n",
    "# resample对数据按照()内重新采样\n",
    "ts.resample('D').mean()"
   ]
  },
  {
   "cell_type": "markdown",
   "metadata": {},
   "source": [
    "\n",
    "### 预览\n",
    "Class|\tRemarks|\tHow to create\n",
    "----|------|----\n",
    "Timestamp\t|Represents a single time stamp\t|to_datetime, Timestamp\n",
    "DatetimeIndex\t|Index of Timestamp\t|to_datetime, date_range, DatetimeIndex\n",
    "Period\t|Represents a single time span\t|Period\n",
    "PeriodIndex\t|Index of Period\t|period_range, PeriodIndex\n"
   ]
  },
  {
   "cell_type": "code",
   "execution_count": 7,
   "metadata": {
    "collapsed": false
   },
   "outputs": [
    {
     "data": {
      "text/plain": [
       "Timestamp('2012-05-01 00:00:00')"
      ]
     },
     "execution_count": 7,
     "metadata": {},
     "output_type": "execute_result"
    }
   ],
   "source": [
    "#Timestamp数据是最基本的时序数据是时间点\n",
    "pd.Timestamp('2012-05-01')"
   ]
  },
  {
   "cell_type": "code",
   "execution_count": 11,
   "metadata": {
    "collapsed": false
   },
   "outputs": [
    {
     "data": {
      "text/plain": [
       "Timestamp('2012-05-01 00:00:00')"
      ]
     },
     "execution_count": 11,
     "metadata": {},
     "output_type": "execute_result"
    }
   ],
   "source": [
    "from datetime import datetime\n",
    "pd.Timestamp(datetime(2012, 5, 1))"
   ]
  },
  {
   "cell_type": "code",
   "execution_count": 12,
   "metadata": {
    "collapsed": false
   },
   "outputs": [
    {
     "data": {
      "text/plain": [
       "Timestamp('2012-05-01 00:00:00')"
      ]
     },
     "execution_count": 12,
     "metadata": {},
     "output_type": "execute_result"
    }
   ],
   "source": [
    "pd.Timestamp(2012, 5, 1)"
   ]
  },
  {
   "cell_type": "code",
   "execution_count": 13,
   "metadata": {
    "collapsed": false
   },
   "outputs": [
    {
     "data": {
      "text/plain": [
       "Period('2011-01', 'M')"
      ]
     },
     "execution_count": 13,
     "metadata": {},
     "output_type": "execute_result"
    }
   ],
   "source": [
    "# Period 表示时间段\n",
    "\n",
    "pd.Period('2011-01')"
   ]
  },
  {
   "cell_type": "code",
   "execution_count": 14,
   "metadata": {
    "collapsed": false
   },
   "outputs": [
    {
     "data": {
      "text/plain": [
       "Period('2012-05-01', 'D')"
      ]
     },
     "execution_count": 14,
     "metadata": {},
     "output_type": "execute_result"
    }
   ],
   "source": [
    "pd.Period('2012-05', freq='D')"
   ]
  },
  {
   "cell_type": "code",
   "execution_count": 15,
   "metadata": {
    "collapsed": false
   },
   "outputs": [
    {
     "data": {
      "text/plain": [
       "DatetimeIndex(['2012-05-01', '2012-05-02', '2012-05-03'], dtype='datetime64[ns]', freq=None)"
      ]
     },
     "execution_count": 15,
     "metadata": {},
     "output_type": "execute_result"
    }
   ],
   "source": [
    "# Timestamp and Period 均可转化为index\n",
    "dates = [pd.Timestamp('2012-05-01'), pd.Timestamp('2012-05-02'), pd.Timestamp('2012-05-03')]\n",
    "\n",
    "ts = pd.Series(np.random.randn(3), dates)\n",
    "ts.index"
   ]
  },
  {
   "cell_type": "code",
   "execution_count": 16,
   "metadata": {
    "collapsed": false
   },
   "outputs": [
    {
     "data": {
      "text/plain": [
       "PeriodIndex(['2012-01', '2012-02', '2012-03'], dtype='period[M]', freq='M')"
      ]
     },
     "execution_count": 16,
     "metadata": {},
     "output_type": "execute_result"
    }
   ],
   "source": [
    "periods = [pd.Period('2012-01'), pd.Period('2012-02'), pd.Period('2012-03')]\n",
    "ts = pd.Series(np.random.randn(3), periods)\n",
    "ts.index"
   ]
  },
  {
   "cell_type": "code",
   "execution_count": 17,
   "metadata": {
    "collapsed": false
   },
   "outputs": [
    {
     "data": {
      "text/plain": [
       "0   2009-07-31\n",
       "1   2010-01-10\n",
       "2          NaT\n",
       "dtype: datetime64[ns]"
      ]
     },
     "execution_count": 17,
     "metadata": {},
     "output_type": "execute_result"
    }
   ],
   "source": [
    "#字符串等转化成 Timestamps\n",
    "pd.to_datetime(pd.Series(['Jul 31, 2009', '2010-01-10', None]))"
   ]
  },
  {
   "cell_type": "code",
   "execution_count": 18,
   "metadata": {
    "collapsed": false
   },
   "outputs": [
    {
     "data": {
      "text/plain": [
       "DatetimeIndex(['2005-11-23', '2010-12-31'], dtype='datetime64[ns]', freq=None)"
      ]
     },
     "execution_count": 18,
     "metadata": {},
     "output_type": "execute_result"
    }
   ],
   "source": [
    "pd.to_datetime(['2005/11/23', '2010.12.31'])"
   ]
  },
  {
   "cell_type": "code",
   "execution_count": 19,
   "metadata": {
    "collapsed": false
   },
   "outputs": [
    {
     "ename": "ValueError",
     "evalue": "Unknown string format",
     "output_type": "error",
     "traceback": [
      "\u001b[0;31m---------------------------------------------------------------------------\u001b[0m",
      "\u001b[0;31mValueError\u001b[0m                                Traceback (most recent call last)",
      "\u001b[0;32m<ipython-input-19-d1badb00f710>\u001b[0m in \u001b[0;36m<module>\u001b[0;34m()\u001b[0m\n\u001b[1;32m      2\u001b[0m \u001b[0;34m\u001b[0m\u001b[0m\n\u001b[1;32m      3\u001b[0m \u001b[0;31m#设置 errors='coerce' 可转为 NaT (not a time)；errors='raise'返回错误ValueError: Unknown string format\u001b[0m\u001b[0;34m\u001b[0m\u001b[0;34m\u001b[0m\u001b[0m\n\u001b[0;32m----> 4\u001b[0;31m \u001b[0mpd\u001b[0m\u001b[0;34m.\u001b[0m\u001b[0mto_datetime\u001b[0m\u001b[0;34m(\u001b[0m\u001b[0;34m[\u001b[0m\u001b[0;34m'2009/07/31'\u001b[0m\u001b[0;34m,\u001b[0m \u001b[0;34m'asd'\u001b[0m\u001b[0;34m]\u001b[0m\u001b[0;34m,\u001b[0m \u001b[0merrors\u001b[0m\u001b[0;34m=\u001b[0m\u001b[0;34m'raise'\u001b[0m\u001b[0;34m)\u001b[0m\u001b[0;34m\u001b[0m\u001b[0m\n\u001b[0m",
      "\u001b[0;32m/usr/local/lib/python2.7/dist-packages/pandas/util/decorators.pyc\u001b[0m in \u001b[0;36mwrapper\u001b[0;34m(*args, **kwargs)\u001b[0m\n\u001b[1;32m     89\u001b[0m                 \u001b[0;32melse\u001b[0m\u001b[0;34m:\u001b[0m\u001b[0;34m\u001b[0m\u001b[0m\n\u001b[1;32m     90\u001b[0m                     \u001b[0mkwargs\u001b[0m\u001b[0;34m[\u001b[0m\u001b[0mnew_arg_name\u001b[0m\u001b[0;34m]\u001b[0m \u001b[0;34m=\u001b[0m \u001b[0mnew_arg_value\u001b[0m\u001b[0;34m\u001b[0m\u001b[0m\n\u001b[0;32m---> 91\u001b[0;31m             \u001b[0;32mreturn\u001b[0m \u001b[0mfunc\u001b[0m\u001b[0;34m(\u001b[0m\u001b[0;34m*\u001b[0m\u001b[0margs\u001b[0m\u001b[0;34m,\u001b[0m \u001b[0;34m**\u001b[0m\u001b[0mkwargs\u001b[0m\u001b[0;34m)\u001b[0m\u001b[0;34m\u001b[0m\u001b[0m\n\u001b[0m\u001b[1;32m     92\u001b[0m         \u001b[0;32mreturn\u001b[0m \u001b[0mwrapper\u001b[0m\u001b[0;34m\u001b[0m\u001b[0m\n\u001b[1;32m     93\u001b[0m     \u001b[0;32mreturn\u001b[0m \u001b[0m_deprecate_kwarg\u001b[0m\u001b[0;34m\u001b[0m\u001b[0m\n",
      "\u001b[0;32m/usr/local/lib/python2.7/dist-packages/pandas/tseries/tools.pyc\u001b[0m in \u001b[0;36mto_datetime\u001b[0;34m(arg, errors, dayfirst, yearfirst, utc, box, format, exact, coerce, unit, infer_datetime_format)\u001b[0m\n\u001b[1;32m    426\u001b[0m         \u001b[0;32mreturn\u001b[0m \u001b[0m_convert_listlike\u001b[0m\u001b[0;34m(\u001b[0m\u001b[0marg\u001b[0m\u001b[0;34m,\u001b[0m \u001b[0mbox\u001b[0m\u001b[0;34m,\u001b[0m \u001b[0mformat\u001b[0m\u001b[0;34m,\u001b[0m \u001b[0mname\u001b[0m\u001b[0;34m=\u001b[0m\u001b[0marg\u001b[0m\u001b[0;34m.\u001b[0m\u001b[0mname\u001b[0m\u001b[0;34m)\u001b[0m\u001b[0;34m\u001b[0m\u001b[0m\n\u001b[1;32m    427\u001b[0m     \u001b[0;32melif\u001b[0m \u001b[0mis_list_like\u001b[0m\u001b[0;34m(\u001b[0m\u001b[0marg\u001b[0m\u001b[0;34m)\u001b[0m\u001b[0;34m:\u001b[0m\u001b[0;34m\u001b[0m\u001b[0m\n\u001b[0;32m--> 428\u001b[0;31m         \u001b[0;32mreturn\u001b[0m \u001b[0m_convert_listlike\u001b[0m\u001b[0;34m(\u001b[0m\u001b[0marg\u001b[0m\u001b[0;34m,\u001b[0m \u001b[0mbox\u001b[0m\u001b[0;34m,\u001b[0m \u001b[0mformat\u001b[0m\u001b[0;34m)\u001b[0m\u001b[0;34m\u001b[0m\u001b[0m\n\u001b[0m\u001b[1;32m    429\u001b[0m \u001b[0;34m\u001b[0m\u001b[0m\n\u001b[1;32m    430\u001b[0m     \u001b[0;32mreturn\u001b[0m \u001b[0m_convert_listlike\u001b[0m\u001b[0;34m(\u001b[0m\u001b[0mnp\u001b[0m\u001b[0;34m.\u001b[0m\u001b[0marray\u001b[0m\u001b[0;34m(\u001b[0m\u001b[0;34m[\u001b[0m\u001b[0marg\u001b[0m\u001b[0;34m]\u001b[0m\u001b[0;34m)\u001b[0m\u001b[0;34m,\u001b[0m \u001b[0mbox\u001b[0m\u001b[0;34m,\u001b[0m \u001b[0mformat\u001b[0m\u001b[0;34m)\u001b[0m\u001b[0;34m[\u001b[0m\u001b[0;36m0\u001b[0m\u001b[0;34m]\u001b[0m\u001b[0;34m\u001b[0m\u001b[0m\n",
      "\u001b[0;32m/usr/local/lib/python2.7/dist-packages/pandas/tseries/tools.pyc\u001b[0m in \u001b[0;36m_convert_listlike\u001b[0;34m(arg, box, format, name, tz)\u001b[0m\n\u001b[1;32m    411\u001b[0m                 \u001b[0;32mreturn\u001b[0m \u001b[0mDatetimeIndex\u001b[0m\u001b[0;34m.\u001b[0m\u001b[0m_simple_new\u001b[0m\u001b[0;34m(\u001b[0m\u001b[0mvalues\u001b[0m\u001b[0;34m,\u001b[0m \u001b[0mname\u001b[0m\u001b[0;34m=\u001b[0m\u001b[0mname\u001b[0m\u001b[0;34m,\u001b[0m \u001b[0mtz\u001b[0m\u001b[0;34m=\u001b[0m\u001b[0mtz\u001b[0m\u001b[0;34m)\u001b[0m\u001b[0;34m\u001b[0m\u001b[0m\n\u001b[1;32m    412\u001b[0m             \u001b[0;32mexcept\u001b[0m \u001b[0;34m(\u001b[0m\u001b[0mValueError\u001b[0m\u001b[0;34m,\u001b[0m \u001b[0mTypeError\u001b[0m\u001b[0;34m)\u001b[0m\u001b[0;34m:\u001b[0m\u001b[0;34m\u001b[0m\u001b[0m\n\u001b[0;32m--> 413\u001b[0;31m                 \u001b[0;32mraise\u001b[0m \u001b[0me\u001b[0m\u001b[0;34m\u001b[0m\u001b[0m\n\u001b[0m\u001b[1;32m    414\u001b[0m \u001b[0;34m\u001b[0m\u001b[0m\n\u001b[1;32m    415\u001b[0m     \u001b[0;32mif\u001b[0m \u001b[0marg\u001b[0m \u001b[0;32mis\u001b[0m \u001b[0mNone\u001b[0m\u001b[0;34m:\u001b[0m\u001b[0;34m\u001b[0m\u001b[0m\n",
      "\u001b[0;31mValueError\u001b[0m: Unknown string format"
     ]
    }
   ],
   "source": [
    "#转化时的无效数据\n",
    "\n",
    "#设置 errors='coerce' 可转为 NaT (not a time)；errors='raise'返回错误ValueError: Unknown string format\n",
    "pd.to_datetime(['2009/07/31', 'asd'], errors='raise')\n"
   ]
  },
  {
   "cell_type": "code",
   "execution_count": 20,
   "metadata": {
    "collapsed": false
   },
   "outputs": [
    {
     "data": {
      "text/plain": [
       "array(['2009/07/31', 'asd'], dtype=object)"
      ]
     },
     "execution_count": 20,
     "metadata": {},
     "output_type": "execute_result"
    }
   ],
   "source": [
    "# errors='ignore 忽略无效数据\n",
    "pd.to_datetime(['2009/07/31', 'asd'], errors='ignore')"
   ]
  },
  {
   "cell_type": "markdown",
   "metadata": {},
   "source": [
    "### 生成 Timestamps序列"
   ]
  },
  {
   "cell_type": "code",
   "execution_count": 21,
   "metadata": {
    "collapsed": false
   },
   "outputs": [
    {
     "data": {
      "text/plain": [
       "DatetimeIndex(['2012-05-01', '2012-05-02', '2012-05-03'], dtype='datetime64[ns]', freq=None)"
      ]
     },
     "execution_count": 21,
     "metadata": {},
     "output_type": "execute_result"
    }
   ],
   "source": [
    "dates = [datetime(2012, 5, 1), datetime(2012, 5, 2), datetime(2012, 5, 3)]\n",
    "index = pd.DatetimeIndex(dates)\n",
    "index = pd.Index(dates)\n",
    "index"
   ]
  },
  {
   "cell_type": "code",
   "execution_count": 22,
   "metadata": {
    "collapsed": false
   },
   "outputs": [
    {
     "data": {
      "text/plain": [
       "DatetimeIndex(['2000-01-31', '2000-02-29', '2000-03-31', '2000-04-30',\n",
       "               '2000-05-31', '2000-06-30', '2000-07-31', '2000-08-31',\n",
       "               '2000-09-30', '2000-10-31',\n",
       "               ...\n",
       "               '2082-07-31', '2082-08-31', '2082-09-30', '2082-10-31',\n",
       "               '2082-11-30', '2082-12-31', '2083-01-31', '2083-02-28',\n",
       "               '2083-03-31', '2083-04-30'],\n",
       "              dtype='datetime64[ns]', length=1000, freq='M')"
      ]
     },
     "execution_count": 22,
     "metadata": {},
     "output_type": "execute_result"
    }
   ],
   "source": [
    "# date_range bdate_range 方法产生序列\n",
    "\n",
    "pd.date_range('2000-1-1', periods=1000, freq='M')# 1000个月"
   ]
  },
  {
   "cell_type": "code",
   "execution_count": 24,
   "metadata": {
    "collapsed": false
   },
   "outputs": [
    {
     "data": {
      "text/plain": [
       "DatetimeIndex(['2012-01-02', '2012-01-03', '2012-01-04', '2012-01-05',\n",
       "               '2012-01-06', '2012-01-09', '2012-01-10', '2012-01-11',\n",
       "               '2012-01-12', '2012-01-13',\n",
       "               ...\n",
       "               '2012-12-03', '2012-12-04', '2012-12-05', '2012-12-06',\n",
       "               '2012-12-07', '2012-12-10', '2012-12-11', '2012-12-12',\n",
       "               '2012-12-13', '2012-12-14'],\n",
       "              dtype='datetime64[ns]', length=250, freq='B')"
      ]
     },
     "execution_count": 24,
     "metadata": {},
     "output_type": "execute_result"
    }
   ],
   "source": [
    "pd.bdate_range('2012-1-1', periods=250)"
   ]
  },
  {
   "cell_type": "code",
   "execution_count": 25,
   "metadata": {
    "collapsed": false
   },
   "outputs": [
    {
     "data": {
      "text/plain": [
       "DatetimeIndex(['2011-01-01', '2011-01-02', '2011-01-03', '2011-01-04',\n",
       "               '2011-01-05', '2011-01-06', '2011-01-07', '2011-01-08',\n",
       "               '2011-01-09', '2011-01-10',\n",
       "               ...\n",
       "               '2011-12-23', '2011-12-24', '2011-12-25', '2011-12-26',\n",
       "               '2011-12-27', '2011-12-28', '2011-12-29', '2011-12-30',\n",
       "               '2011-12-31', '2012-01-01'],\n",
       "              dtype='datetime64[ns]', length=366, freq='D')"
      ]
     },
     "execution_count": 25,
     "metadata": {},
     "output_type": "execute_result"
    }
   ],
   "source": [
    "start = datetime(2011, 1, 1)\n",
    "end = datetime(2012, 1, 1)\n",
    "pd.date_range(start, end)"
   ]
  },
  {
   "cell_type": "code",
   "execution_count": 26,
   "metadata": {
    "collapsed": false
   },
   "outputs": [
    {
     "data": {
      "text/plain": [
       "DatetimeIndex(['2011-01-31', '2011-02-28', '2011-03-31', '2011-04-29',\n",
       "               '2011-05-31', '2011-06-30', '2011-07-29', '2011-08-31',\n",
       "               '2011-09-30', '2011-10-31', '2011-11-30', '2011-12-30'],\n",
       "              dtype='datetime64[ns]', freq='BM')"
      ]
     },
     "execution_count": 26,
     "metadata": {},
     "output_type": "execute_result"
    }
   ],
   "source": [
    "pd.date_range(start, end, freq='BM')"
   ]
  },
  {
   "cell_type": "markdown",
   "metadata": {},
   "source": [
    "### DatetimeIndex"
   ]
  },
  {
   "cell_type": "code",
   "execution_count": 27,
   "metadata": {
    "collapsed": false
   },
   "outputs": [
    {
     "data": {
      "text/plain": [
       "DatetimeIndex(['2011-01-31', '2011-02-28', '2011-03-31', '2011-04-29',\n",
       "               '2011-05-31', '2011-06-30', '2011-07-29', '2011-08-31',\n",
       "               '2011-09-30', '2011-10-31', '2011-11-30', '2011-12-30'],\n",
       "              dtype='datetime64[ns]', freq='BM')"
      ]
     },
     "execution_count": 27,
     "metadata": {},
     "output_type": "execute_result"
    }
   ],
   "source": [
    "rng = pd.date_range(start, end, freq='BM')\n",
    "ts = pd.Series(np.random.randn(len(rng)), index=rng)\n",
    "ts.index    "
   ]
  },
  {
   "cell_type": "code",
   "execution_count": 28,
   "metadata": {
    "collapsed": false
   },
   "outputs": [
    {
     "data": {
      "text/plain": [
       "0.14439568464428792"
      ]
     },
     "execution_count": 28,
     "metadata": {},
     "output_type": "execute_result"
    }
   ],
   "source": [
    "ts['1/31/2011']# 可以日期字符串index数据"
   ]
  },
  {
   "cell_type": "code",
   "execution_count": 29,
   "metadata": {
    "collapsed": false
   },
   "outputs": [
    {
     "data": {
      "text/plain": [
       "2011-01-31    0.144396\n",
       "2011-02-28    1.308557\n",
       "2011-03-31   -1.446222\n",
       "2011-04-29    2.445849\n",
       "2011-05-31    1.709263\n",
       "2011-06-30   -0.094117\n",
       "2011-07-29   -0.754575\n",
       "2011-08-31    0.403733\n",
       "2011-09-30    1.179335\n",
       "2011-10-31    1.499188\n",
       "2011-11-30    0.829537\n",
       "2011-12-30    0.259246\n",
       "Freq: BM, dtype: float64"
      ]
     },
     "execution_count": 29,
     "metadata": {},
     "output_type": "execute_result"
    }
   ],
   "source": [
    "ts['2011']"
   ]
  },
  {
   "cell_type": "code",
   "execution_count": 31,
   "metadata": {
    "collapsed": false
   },
   "outputs": [],
   "source": [
    "dft = pd.DataFrame(np.random.randn(100000,1),\n",
    "                  columns=['A'],\n",
    "                 index=pd.date_range('20130101',periods=100000,freq='T'))"
   ]
  },
  {
   "cell_type": "code",
   "execution_count": 32,
   "metadata": {
    "collapsed": false
   },
   "outputs": [
    {
     "data": {
      "text/html": [
       "<div>\n",
       "<table border=\"1\" class=\"dataframe\">\n",
       "  <thead>\n",
       "    <tr style=\"text-align: right;\">\n",
       "      <th></th>\n",
       "      <th>A</th>\n",
       "    </tr>\n",
       "  </thead>\n",
       "  <tbody>\n",
       "    <tr>\n",
       "      <th>2013-01-01 00:00:00</th>\n",
       "      <td>-0.477545</td>\n",
       "    </tr>\n",
       "    <tr>\n",
       "      <th>2013-01-01 00:01:00</th>\n",
       "      <td>0.234036</td>\n",
       "    </tr>\n",
       "    <tr>\n",
       "      <th>2013-01-01 00:02:00</th>\n",
       "      <td>1.166847</td>\n",
       "    </tr>\n",
       "    <tr>\n",
       "      <th>2013-01-01 00:03:00</th>\n",
       "      <td>-0.873448</td>\n",
       "    </tr>\n",
       "    <tr>\n",
       "      <th>2013-01-01 00:04:00</th>\n",
       "      <td>-1.679711</td>\n",
       "    </tr>\n",
       "    <tr>\n",
       "      <th>2013-01-01 00:05:00</th>\n",
       "      <td>0.840153</td>\n",
       "    </tr>\n",
       "    <tr>\n",
       "      <th>2013-01-01 00:06:00</th>\n",
       "      <td>-0.673892</td>\n",
       "    </tr>\n",
       "    <tr>\n",
       "      <th>2013-01-01 00:07:00</th>\n",
       "      <td>-0.759327</td>\n",
       "    </tr>\n",
       "    <tr>\n",
       "      <th>2013-01-01 00:08:00</th>\n",
       "      <td>1.434083</td>\n",
       "    </tr>\n",
       "    <tr>\n",
       "      <th>2013-01-01 00:09:00</th>\n",
       "      <td>0.700347</td>\n",
       "    </tr>\n",
       "    <tr>\n",
       "      <th>2013-01-01 00:10:00</th>\n",
       "      <td>-0.299588</td>\n",
       "    </tr>\n",
       "    <tr>\n",
       "      <th>2013-01-01 00:11:00</th>\n",
       "      <td>-0.731556</td>\n",
       "    </tr>\n",
       "    <tr>\n",
       "      <th>2013-01-01 00:12:00</th>\n",
       "      <td>-0.068991</td>\n",
       "    </tr>\n",
       "    <tr>\n",
       "      <th>2013-01-01 00:13:00</th>\n",
       "      <td>-0.013146</td>\n",
       "    </tr>\n",
       "    <tr>\n",
       "      <th>2013-01-01 00:14:00</th>\n",
       "      <td>1.408342</td>\n",
       "    </tr>\n",
       "    <tr>\n",
       "      <th>2013-01-01 00:15:00</th>\n",
       "      <td>-0.200264</td>\n",
       "    </tr>\n",
       "    <tr>\n",
       "      <th>2013-01-01 00:16:00</th>\n",
       "      <td>0.675707</td>\n",
       "    </tr>\n",
       "    <tr>\n",
       "      <th>2013-01-01 00:17:00</th>\n",
       "      <td>-0.785004</td>\n",
       "    </tr>\n",
       "    <tr>\n",
       "      <th>2013-01-01 00:18:00</th>\n",
       "      <td>0.436293</td>\n",
       "    </tr>\n",
       "    <tr>\n",
       "      <th>2013-01-01 00:19:00</th>\n",
       "      <td>0.684038</td>\n",
       "    </tr>\n",
       "    <tr>\n",
       "      <th>2013-01-01 00:20:00</th>\n",
       "      <td>0.917021</td>\n",
       "    </tr>\n",
       "    <tr>\n",
       "      <th>2013-01-01 00:21:00</th>\n",
       "      <td>-0.927074</td>\n",
       "    </tr>\n",
       "    <tr>\n",
       "      <th>2013-01-01 00:22:00</th>\n",
       "      <td>-0.444897</td>\n",
       "    </tr>\n",
       "    <tr>\n",
       "      <th>2013-01-01 00:23:00</th>\n",
       "      <td>-0.483204</td>\n",
       "    </tr>\n",
       "    <tr>\n",
       "      <th>2013-01-01 00:24:00</th>\n",
       "      <td>2.223770</td>\n",
       "    </tr>\n",
       "    <tr>\n",
       "      <th>2013-01-01 00:25:00</th>\n",
       "      <td>-1.167867</td>\n",
       "    </tr>\n",
       "    <tr>\n",
       "      <th>2013-01-01 00:26:00</th>\n",
       "      <td>-0.087384</td>\n",
       "    </tr>\n",
       "    <tr>\n",
       "      <th>2013-01-01 00:27:00</th>\n",
       "      <td>-0.128358</td>\n",
       "    </tr>\n",
       "    <tr>\n",
       "      <th>2013-01-01 00:28:00</th>\n",
       "      <td>0.645909</td>\n",
       "    </tr>\n",
       "    <tr>\n",
       "      <th>2013-01-01 00:29:00</th>\n",
       "      <td>-1.565333</td>\n",
       "    </tr>\n",
       "    <tr>\n",
       "      <th>...</th>\n",
       "      <td>...</td>\n",
       "    </tr>\n",
       "    <tr>\n",
       "      <th>2013-03-11 10:10:00</th>\n",
       "      <td>1.970900</td>\n",
       "    </tr>\n",
       "    <tr>\n",
       "      <th>2013-03-11 10:11:00</th>\n",
       "      <td>-0.178248</td>\n",
       "    </tr>\n",
       "    <tr>\n",
       "      <th>2013-03-11 10:12:00</th>\n",
       "      <td>-1.759035</td>\n",
       "    </tr>\n",
       "    <tr>\n",
       "      <th>2013-03-11 10:13:00</th>\n",
       "      <td>-0.290874</td>\n",
       "    </tr>\n",
       "    <tr>\n",
       "      <th>2013-03-11 10:14:00</th>\n",
       "      <td>0.350186</td>\n",
       "    </tr>\n",
       "    <tr>\n",
       "      <th>2013-03-11 10:15:00</th>\n",
       "      <td>-0.480646</td>\n",
       "    </tr>\n",
       "    <tr>\n",
       "      <th>2013-03-11 10:16:00</th>\n",
       "      <td>0.112230</td>\n",
       "    </tr>\n",
       "    <tr>\n",
       "      <th>2013-03-11 10:17:00</th>\n",
       "      <td>-0.045146</td>\n",
       "    </tr>\n",
       "    <tr>\n",
       "      <th>2013-03-11 10:18:00</th>\n",
       "      <td>1.365268</td>\n",
       "    </tr>\n",
       "    <tr>\n",
       "      <th>2013-03-11 10:19:00</th>\n",
       "      <td>0.358550</td>\n",
       "    </tr>\n",
       "    <tr>\n",
       "      <th>2013-03-11 10:20:00</th>\n",
       "      <td>1.751933</td>\n",
       "    </tr>\n",
       "    <tr>\n",
       "      <th>2013-03-11 10:21:00</th>\n",
       "      <td>0.309935</td>\n",
       "    </tr>\n",
       "    <tr>\n",
       "      <th>2013-03-11 10:22:00</th>\n",
       "      <td>-0.146063</td>\n",
       "    </tr>\n",
       "    <tr>\n",
       "      <th>2013-03-11 10:23:00</th>\n",
       "      <td>0.502137</td>\n",
       "    </tr>\n",
       "    <tr>\n",
       "      <th>2013-03-11 10:24:00</th>\n",
       "      <td>1.506070</td>\n",
       "    </tr>\n",
       "    <tr>\n",
       "      <th>2013-03-11 10:25:00</th>\n",
       "      <td>1.203163</td>\n",
       "    </tr>\n",
       "    <tr>\n",
       "      <th>2013-03-11 10:26:00</th>\n",
       "      <td>0.323495</td>\n",
       "    </tr>\n",
       "    <tr>\n",
       "      <th>2013-03-11 10:27:00</th>\n",
       "      <td>1.826633</td>\n",
       "    </tr>\n",
       "    <tr>\n",
       "      <th>2013-03-11 10:28:00</th>\n",
       "      <td>1.455660</td>\n",
       "    </tr>\n",
       "    <tr>\n",
       "      <th>2013-03-11 10:29:00</th>\n",
       "      <td>0.488264</td>\n",
       "    </tr>\n",
       "    <tr>\n",
       "      <th>2013-03-11 10:30:00</th>\n",
       "      <td>-0.017324</td>\n",
       "    </tr>\n",
       "    <tr>\n",
       "      <th>2013-03-11 10:31:00</th>\n",
       "      <td>-0.237562</td>\n",
       "    </tr>\n",
       "    <tr>\n",
       "      <th>2013-03-11 10:32:00</th>\n",
       "      <td>-0.992889</td>\n",
       "    </tr>\n",
       "    <tr>\n",
       "      <th>2013-03-11 10:33:00</th>\n",
       "      <td>-0.914307</td>\n",
       "    </tr>\n",
       "    <tr>\n",
       "      <th>2013-03-11 10:34:00</th>\n",
       "      <td>0.274317</td>\n",
       "    </tr>\n",
       "    <tr>\n",
       "      <th>2013-03-11 10:35:00</th>\n",
       "      <td>1.919992</td>\n",
       "    </tr>\n",
       "    <tr>\n",
       "      <th>2013-03-11 10:36:00</th>\n",
       "      <td>-0.509849</td>\n",
       "    </tr>\n",
       "    <tr>\n",
       "      <th>2013-03-11 10:37:00</th>\n",
       "      <td>-1.924749</td>\n",
       "    </tr>\n",
       "    <tr>\n",
       "      <th>2013-03-11 10:38:00</th>\n",
       "      <td>0.642841</td>\n",
       "    </tr>\n",
       "    <tr>\n",
       "      <th>2013-03-11 10:39:00</th>\n",
       "      <td>-0.667470</td>\n",
       "    </tr>\n",
       "  </tbody>\n",
       "</table>\n",
       "<p>100000 rows × 1 columns</p>\n",
       "</div>"
      ],
      "text/plain": [
       "                            A\n",
       "2013-01-01 00:00:00 -0.477545\n",
       "2013-01-01 00:01:00  0.234036\n",
       "2013-01-01 00:02:00  1.166847\n",
       "2013-01-01 00:03:00 -0.873448\n",
       "2013-01-01 00:04:00 -1.679711\n",
       "2013-01-01 00:05:00  0.840153\n",
       "2013-01-01 00:06:00 -0.673892\n",
       "2013-01-01 00:07:00 -0.759327\n",
       "2013-01-01 00:08:00  1.434083\n",
       "2013-01-01 00:09:00  0.700347\n",
       "2013-01-01 00:10:00 -0.299588\n",
       "2013-01-01 00:11:00 -0.731556\n",
       "2013-01-01 00:12:00 -0.068991\n",
       "2013-01-01 00:13:00 -0.013146\n",
       "2013-01-01 00:14:00  1.408342\n",
       "2013-01-01 00:15:00 -0.200264\n",
       "2013-01-01 00:16:00  0.675707\n",
       "2013-01-01 00:17:00 -0.785004\n",
       "2013-01-01 00:18:00  0.436293\n",
       "2013-01-01 00:19:00  0.684038\n",
       "2013-01-01 00:20:00  0.917021\n",
       "2013-01-01 00:21:00 -0.927074\n",
       "2013-01-01 00:22:00 -0.444897\n",
       "2013-01-01 00:23:00 -0.483204\n",
       "2013-01-01 00:24:00  2.223770\n",
       "2013-01-01 00:25:00 -1.167867\n",
       "2013-01-01 00:26:00 -0.087384\n",
       "2013-01-01 00:27:00 -0.128358\n",
       "2013-01-01 00:28:00  0.645909\n",
       "2013-01-01 00:29:00 -1.565333\n",
       "...                       ...\n",
       "2013-03-11 10:10:00  1.970900\n",
       "2013-03-11 10:11:00 -0.178248\n",
       "2013-03-11 10:12:00 -1.759035\n",
       "2013-03-11 10:13:00 -0.290874\n",
       "2013-03-11 10:14:00  0.350186\n",
       "2013-03-11 10:15:00 -0.480646\n",
       "2013-03-11 10:16:00  0.112230\n",
       "2013-03-11 10:17:00 -0.045146\n",
       "2013-03-11 10:18:00  1.365268\n",
       "2013-03-11 10:19:00  0.358550\n",
       "2013-03-11 10:20:00  1.751933\n",
       "2013-03-11 10:21:00  0.309935\n",
       "2013-03-11 10:22:00 -0.146063\n",
       "2013-03-11 10:23:00  0.502137\n",
       "2013-03-11 10:24:00  1.506070\n",
       "2013-03-11 10:25:00  1.203163\n",
       "2013-03-11 10:26:00  0.323495\n",
       "2013-03-11 10:27:00  1.826633\n",
       "2013-03-11 10:28:00  1.455660\n",
       "2013-03-11 10:29:00  0.488264\n",
       "2013-03-11 10:30:00 -0.017324\n",
       "2013-03-11 10:31:00 -0.237562\n",
       "2013-03-11 10:32:00 -0.992889\n",
       "2013-03-11 10:33:00 -0.914307\n",
       "2013-03-11 10:34:00  0.274317\n",
       "2013-03-11 10:35:00  1.919992\n",
       "2013-03-11 10:36:00 -0.509849\n",
       "2013-03-11 10:37:00 -1.924749\n",
       "2013-03-11 10:38:00  0.642841\n",
       "2013-03-11 10:39:00 -0.667470\n",
       "\n",
       "[100000 rows x 1 columns]"
      ]
     },
     "execution_count": 32,
     "metadata": {},
     "output_type": "execute_result"
    }
   ],
   "source": [
    "dft['2013']"
   ]
  },
  {
   "cell_type": "code",
   "execution_count": 33,
   "metadata": {
    "collapsed": false
   },
   "outputs": [
    {
     "data": {
      "text/html": [
       "<div>\n",
       "<table border=\"1\" class=\"dataframe\">\n",
       "  <thead>\n",
       "    <tr style=\"text-align: right;\">\n",
       "      <th></th>\n",
       "      <th>A</th>\n",
       "    </tr>\n",
       "  </thead>\n",
       "  <tbody>\n",
       "    <tr>\n",
       "      <th>2013-01-01 00:00:00</th>\n",
       "      <td>-0.477545</td>\n",
       "    </tr>\n",
       "    <tr>\n",
       "      <th>2013-01-01 00:01:00</th>\n",
       "      <td>0.234036</td>\n",
       "    </tr>\n",
       "    <tr>\n",
       "      <th>2013-01-01 00:02:00</th>\n",
       "      <td>1.166847</td>\n",
       "    </tr>\n",
       "    <tr>\n",
       "      <th>2013-01-01 00:03:00</th>\n",
       "      <td>-0.873448</td>\n",
       "    </tr>\n",
       "    <tr>\n",
       "      <th>2013-01-01 00:04:00</th>\n",
       "      <td>-1.679711</td>\n",
       "    </tr>\n",
       "    <tr>\n",
       "      <th>2013-01-01 00:05:00</th>\n",
       "      <td>0.840153</td>\n",
       "    </tr>\n",
       "    <tr>\n",
       "      <th>2013-01-01 00:06:00</th>\n",
       "      <td>-0.673892</td>\n",
       "    </tr>\n",
       "    <tr>\n",
       "      <th>2013-01-01 00:07:00</th>\n",
       "      <td>-0.759327</td>\n",
       "    </tr>\n",
       "    <tr>\n",
       "      <th>2013-01-01 00:08:00</th>\n",
       "      <td>1.434083</td>\n",
       "    </tr>\n",
       "    <tr>\n",
       "      <th>2013-01-01 00:09:00</th>\n",
       "      <td>0.700347</td>\n",
       "    </tr>\n",
       "    <tr>\n",
       "      <th>2013-01-01 00:10:00</th>\n",
       "      <td>-0.299588</td>\n",
       "    </tr>\n",
       "    <tr>\n",
       "      <th>2013-01-01 00:11:00</th>\n",
       "      <td>-0.731556</td>\n",
       "    </tr>\n",
       "    <tr>\n",
       "      <th>2013-01-01 00:12:00</th>\n",
       "      <td>-0.068991</td>\n",
       "    </tr>\n",
       "    <tr>\n",
       "      <th>2013-01-01 00:13:00</th>\n",
       "      <td>-0.013146</td>\n",
       "    </tr>\n",
       "    <tr>\n",
       "      <th>2013-01-01 00:14:00</th>\n",
       "      <td>1.408342</td>\n",
       "    </tr>\n",
       "    <tr>\n",
       "      <th>2013-01-01 00:15:00</th>\n",
       "      <td>-0.200264</td>\n",
       "    </tr>\n",
       "    <tr>\n",
       "      <th>2013-01-01 00:16:00</th>\n",
       "      <td>0.675707</td>\n",
       "    </tr>\n",
       "    <tr>\n",
       "      <th>2013-01-01 00:17:00</th>\n",
       "      <td>-0.785004</td>\n",
       "    </tr>\n",
       "    <tr>\n",
       "      <th>2013-01-01 00:18:00</th>\n",
       "      <td>0.436293</td>\n",
       "    </tr>\n",
       "    <tr>\n",
       "      <th>2013-01-01 00:19:00</th>\n",
       "      <td>0.684038</td>\n",
       "    </tr>\n",
       "    <tr>\n",
       "      <th>2013-01-01 00:20:00</th>\n",
       "      <td>0.917021</td>\n",
       "    </tr>\n",
       "    <tr>\n",
       "      <th>2013-01-01 00:21:00</th>\n",
       "      <td>-0.927074</td>\n",
       "    </tr>\n",
       "    <tr>\n",
       "      <th>2013-01-01 00:22:00</th>\n",
       "      <td>-0.444897</td>\n",
       "    </tr>\n",
       "    <tr>\n",
       "      <th>2013-01-01 00:23:00</th>\n",
       "      <td>-0.483204</td>\n",
       "    </tr>\n",
       "    <tr>\n",
       "      <th>2013-01-01 00:24:00</th>\n",
       "      <td>2.223770</td>\n",
       "    </tr>\n",
       "    <tr>\n",
       "      <th>2013-01-01 00:25:00</th>\n",
       "      <td>-1.167867</td>\n",
       "    </tr>\n",
       "    <tr>\n",
       "      <th>2013-01-01 00:26:00</th>\n",
       "      <td>-0.087384</td>\n",
       "    </tr>\n",
       "    <tr>\n",
       "      <th>2013-01-01 00:27:00</th>\n",
       "      <td>-0.128358</td>\n",
       "    </tr>\n",
       "    <tr>\n",
       "      <th>2013-01-01 00:28:00</th>\n",
       "      <td>0.645909</td>\n",
       "    </tr>\n",
       "    <tr>\n",
       "      <th>2013-01-01 00:29:00</th>\n",
       "      <td>-1.565333</td>\n",
       "    </tr>\n",
       "    <tr>\n",
       "      <th>...</th>\n",
       "      <td>...</td>\n",
       "    </tr>\n",
       "    <tr>\n",
       "      <th>2013-02-28 23:30:00</th>\n",
       "      <td>0.531507</td>\n",
       "    </tr>\n",
       "    <tr>\n",
       "      <th>2013-02-28 23:31:00</th>\n",
       "      <td>1.008726</td>\n",
       "    </tr>\n",
       "    <tr>\n",
       "      <th>2013-02-28 23:32:00</th>\n",
       "      <td>0.305949</td>\n",
       "    </tr>\n",
       "    <tr>\n",
       "      <th>2013-02-28 23:33:00</th>\n",
       "      <td>-0.313810</td>\n",
       "    </tr>\n",
       "    <tr>\n",
       "      <th>2013-02-28 23:34:00</th>\n",
       "      <td>0.802392</td>\n",
       "    </tr>\n",
       "    <tr>\n",
       "      <th>2013-02-28 23:35:00</th>\n",
       "      <td>0.419971</td>\n",
       "    </tr>\n",
       "    <tr>\n",
       "      <th>2013-02-28 23:36:00</th>\n",
       "      <td>-0.188413</td>\n",
       "    </tr>\n",
       "    <tr>\n",
       "      <th>2013-02-28 23:37:00</th>\n",
       "      <td>0.792084</td>\n",
       "    </tr>\n",
       "    <tr>\n",
       "      <th>2013-02-28 23:38:00</th>\n",
       "      <td>-0.396405</td>\n",
       "    </tr>\n",
       "    <tr>\n",
       "      <th>2013-02-28 23:39:00</th>\n",
       "      <td>-0.980623</td>\n",
       "    </tr>\n",
       "    <tr>\n",
       "      <th>2013-02-28 23:40:00</th>\n",
       "      <td>0.164073</td>\n",
       "    </tr>\n",
       "    <tr>\n",
       "      <th>2013-02-28 23:41:00</th>\n",
       "      <td>0.359804</td>\n",
       "    </tr>\n",
       "    <tr>\n",
       "      <th>2013-02-28 23:42:00</th>\n",
       "      <td>0.471817</td>\n",
       "    </tr>\n",
       "    <tr>\n",
       "      <th>2013-02-28 23:43:00</th>\n",
       "      <td>-0.849276</td>\n",
       "    </tr>\n",
       "    <tr>\n",
       "      <th>2013-02-28 23:44:00</th>\n",
       "      <td>0.231360</td>\n",
       "    </tr>\n",
       "    <tr>\n",
       "      <th>2013-02-28 23:45:00</th>\n",
       "      <td>-0.360315</td>\n",
       "    </tr>\n",
       "    <tr>\n",
       "      <th>2013-02-28 23:46:00</th>\n",
       "      <td>1.496276</td>\n",
       "    </tr>\n",
       "    <tr>\n",
       "      <th>2013-02-28 23:47:00</th>\n",
       "      <td>-1.009322</td>\n",
       "    </tr>\n",
       "    <tr>\n",
       "      <th>2013-02-28 23:48:00</th>\n",
       "      <td>-1.292809</td>\n",
       "    </tr>\n",
       "    <tr>\n",
       "      <th>2013-02-28 23:49:00</th>\n",
       "      <td>0.886717</td>\n",
       "    </tr>\n",
       "    <tr>\n",
       "      <th>2013-02-28 23:50:00</th>\n",
       "      <td>-0.850844</td>\n",
       "    </tr>\n",
       "    <tr>\n",
       "      <th>2013-02-28 23:51:00</th>\n",
       "      <td>1.257403</td>\n",
       "    </tr>\n",
       "    <tr>\n",
       "      <th>2013-02-28 23:52:00</th>\n",
       "      <td>-1.285575</td>\n",
       "    </tr>\n",
       "    <tr>\n",
       "      <th>2013-02-28 23:53:00</th>\n",
       "      <td>0.236458</td>\n",
       "    </tr>\n",
       "    <tr>\n",
       "      <th>2013-02-28 23:54:00</th>\n",
       "      <td>-0.819424</td>\n",
       "    </tr>\n",
       "    <tr>\n",
       "      <th>2013-02-28 23:55:00</th>\n",
       "      <td>-1.552891</td>\n",
       "    </tr>\n",
       "    <tr>\n",
       "      <th>2013-02-28 23:56:00</th>\n",
       "      <td>1.735344</td>\n",
       "    </tr>\n",
       "    <tr>\n",
       "      <th>2013-02-28 23:57:00</th>\n",
       "      <td>-0.288835</td>\n",
       "    </tr>\n",
       "    <tr>\n",
       "      <th>2013-02-28 23:58:00</th>\n",
       "      <td>0.251200</td>\n",
       "    </tr>\n",
       "    <tr>\n",
       "      <th>2013-02-28 23:59:00</th>\n",
       "      <td>-0.512188</td>\n",
       "    </tr>\n",
       "  </tbody>\n",
       "</table>\n",
       "<p>84960 rows × 1 columns</p>\n",
       "</div>"
      ],
      "text/plain": [
       "                            A\n",
       "2013-01-01 00:00:00 -0.477545\n",
       "2013-01-01 00:01:00  0.234036\n",
       "2013-01-01 00:02:00  1.166847\n",
       "2013-01-01 00:03:00 -0.873448\n",
       "2013-01-01 00:04:00 -1.679711\n",
       "2013-01-01 00:05:00  0.840153\n",
       "2013-01-01 00:06:00 -0.673892\n",
       "2013-01-01 00:07:00 -0.759327\n",
       "2013-01-01 00:08:00  1.434083\n",
       "2013-01-01 00:09:00  0.700347\n",
       "2013-01-01 00:10:00 -0.299588\n",
       "2013-01-01 00:11:00 -0.731556\n",
       "2013-01-01 00:12:00 -0.068991\n",
       "2013-01-01 00:13:00 -0.013146\n",
       "2013-01-01 00:14:00  1.408342\n",
       "2013-01-01 00:15:00 -0.200264\n",
       "2013-01-01 00:16:00  0.675707\n",
       "2013-01-01 00:17:00 -0.785004\n",
       "2013-01-01 00:18:00  0.436293\n",
       "2013-01-01 00:19:00  0.684038\n",
       "2013-01-01 00:20:00  0.917021\n",
       "2013-01-01 00:21:00 -0.927074\n",
       "2013-01-01 00:22:00 -0.444897\n",
       "2013-01-01 00:23:00 -0.483204\n",
       "2013-01-01 00:24:00  2.223770\n",
       "2013-01-01 00:25:00 -1.167867\n",
       "2013-01-01 00:26:00 -0.087384\n",
       "2013-01-01 00:27:00 -0.128358\n",
       "2013-01-01 00:28:00  0.645909\n",
       "2013-01-01 00:29:00 -1.565333\n",
       "...                       ...\n",
       "2013-02-28 23:30:00  0.531507\n",
       "2013-02-28 23:31:00  1.008726\n",
       "2013-02-28 23:32:00  0.305949\n",
       "2013-02-28 23:33:00 -0.313810\n",
       "2013-02-28 23:34:00  0.802392\n",
       "2013-02-28 23:35:00  0.419971\n",
       "2013-02-28 23:36:00 -0.188413\n",
       "2013-02-28 23:37:00  0.792084\n",
       "2013-02-28 23:38:00 -0.396405\n",
       "2013-02-28 23:39:00 -0.980623\n",
       "2013-02-28 23:40:00  0.164073\n",
       "2013-02-28 23:41:00  0.359804\n",
       "2013-02-28 23:42:00  0.471817\n",
       "2013-02-28 23:43:00 -0.849276\n",
       "2013-02-28 23:44:00  0.231360\n",
       "2013-02-28 23:45:00 -0.360315\n",
       "2013-02-28 23:46:00  1.496276\n",
       "2013-02-28 23:47:00 -1.009322\n",
       "2013-02-28 23:48:00 -1.292809\n",
       "2013-02-28 23:49:00  0.886717\n",
       "2013-02-28 23:50:00 -0.850844\n",
       "2013-02-28 23:51:00  1.257403\n",
       "2013-02-28 23:52:00 -1.285575\n",
       "2013-02-28 23:53:00  0.236458\n",
       "2013-02-28 23:54:00 -0.819424\n",
       "2013-02-28 23:55:00 -1.552891\n",
       "2013-02-28 23:56:00  1.735344\n",
       "2013-02-28 23:57:00 -0.288835\n",
       "2013-02-28 23:58:00  0.251200\n",
       "2013-02-28 23:59:00 -0.512188\n",
       "\n",
       "[84960 rows x 1 columns]"
      ]
     },
     "execution_count": 33,
     "metadata": {},
     "output_type": "execute_result"
    }
   ],
   "source": [
    "dft['2013-1':'2013-2']"
   ]
  },
  {
   "cell_type": "code",
   "execution_count": 34,
   "metadata": {
    "collapsed": false
   },
   "outputs": [
    {
     "data": {
      "text/html": [
       "<div>\n",
       "<table border=\"1\" class=\"dataframe\">\n",
       "  <thead>\n",
       "    <tr style=\"text-align: right;\">\n",
       "      <th></th>\n",
       "      <th>A</th>\n",
       "    </tr>\n",
       "  </thead>\n",
       "  <tbody>\n",
       "    <tr>\n",
       "      <th>2013-01-01 00:00:00</th>\n",
       "      <td>-0.477545</td>\n",
       "    </tr>\n",
       "    <tr>\n",
       "      <th>2013-01-01 00:01:00</th>\n",
       "      <td>0.234036</td>\n",
       "    </tr>\n",
       "    <tr>\n",
       "      <th>2013-01-01 00:02:00</th>\n",
       "      <td>1.166847</td>\n",
       "    </tr>\n",
       "    <tr>\n",
       "      <th>2013-01-01 00:03:00</th>\n",
       "      <td>-0.873448</td>\n",
       "    </tr>\n",
       "    <tr>\n",
       "      <th>2013-01-01 00:04:00</th>\n",
       "      <td>-1.679711</td>\n",
       "    </tr>\n",
       "    <tr>\n",
       "      <th>2013-01-01 00:05:00</th>\n",
       "      <td>0.840153</td>\n",
       "    </tr>\n",
       "    <tr>\n",
       "      <th>2013-01-01 00:06:00</th>\n",
       "      <td>-0.673892</td>\n",
       "    </tr>\n",
       "    <tr>\n",
       "      <th>2013-01-01 00:07:00</th>\n",
       "      <td>-0.759327</td>\n",
       "    </tr>\n",
       "    <tr>\n",
       "      <th>2013-01-01 00:08:00</th>\n",
       "      <td>1.434083</td>\n",
       "    </tr>\n",
       "    <tr>\n",
       "      <th>2013-01-01 00:09:00</th>\n",
       "      <td>0.700347</td>\n",
       "    </tr>\n",
       "    <tr>\n",
       "      <th>2013-01-01 00:10:00</th>\n",
       "      <td>-0.299588</td>\n",
       "    </tr>\n",
       "    <tr>\n",
       "      <th>2013-01-01 00:11:00</th>\n",
       "      <td>-0.731556</td>\n",
       "    </tr>\n",
       "    <tr>\n",
       "      <th>2013-01-01 00:12:00</th>\n",
       "      <td>-0.068991</td>\n",
       "    </tr>\n",
       "    <tr>\n",
       "      <th>2013-01-01 00:13:00</th>\n",
       "      <td>-0.013146</td>\n",
       "    </tr>\n",
       "    <tr>\n",
       "      <th>2013-01-01 00:14:00</th>\n",
       "      <td>1.408342</td>\n",
       "    </tr>\n",
       "    <tr>\n",
       "      <th>2013-01-01 00:15:00</th>\n",
       "      <td>-0.200264</td>\n",
       "    </tr>\n",
       "    <tr>\n",
       "      <th>2013-01-01 00:16:00</th>\n",
       "      <td>0.675707</td>\n",
       "    </tr>\n",
       "    <tr>\n",
       "      <th>2013-01-01 00:17:00</th>\n",
       "      <td>-0.785004</td>\n",
       "    </tr>\n",
       "    <tr>\n",
       "      <th>2013-01-01 00:18:00</th>\n",
       "      <td>0.436293</td>\n",
       "    </tr>\n",
       "    <tr>\n",
       "      <th>2013-01-01 00:19:00</th>\n",
       "      <td>0.684038</td>\n",
       "    </tr>\n",
       "    <tr>\n",
       "      <th>2013-01-01 00:20:00</th>\n",
       "      <td>0.917021</td>\n",
       "    </tr>\n",
       "    <tr>\n",
       "      <th>2013-01-01 00:21:00</th>\n",
       "      <td>-0.927074</td>\n",
       "    </tr>\n",
       "    <tr>\n",
       "      <th>2013-01-01 00:22:00</th>\n",
       "      <td>-0.444897</td>\n",
       "    </tr>\n",
       "    <tr>\n",
       "      <th>2013-01-01 00:23:00</th>\n",
       "      <td>-0.483204</td>\n",
       "    </tr>\n",
       "    <tr>\n",
       "      <th>2013-01-01 00:24:00</th>\n",
       "      <td>2.223770</td>\n",
       "    </tr>\n",
       "    <tr>\n",
       "      <th>2013-01-01 00:25:00</th>\n",
       "      <td>-1.167867</td>\n",
       "    </tr>\n",
       "    <tr>\n",
       "      <th>2013-01-01 00:26:00</th>\n",
       "      <td>-0.087384</td>\n",
       "    </tr>\n",
       "    <tr>\n",
       "      <th>2013-01-01 00:27:00</th>\n",
       "      <td>-0.128358</td>\n",
       "    </tr>\n",
       "    <tr>\n",
       "      <th>2013-01-01 00:28:00</th>\n",
       "      <td>0.645909</td>\n",
       "    </tr>\n",
       "    <tr>\n",
       "      <th>2013-01-01 00:29:00</th>\n",
       "      <td>-1.565333</td>\n",
       "    </tr>\n",
       "    <tr>\n",
       "      <th>...</th>\n",
       "      <td>...</td>\n",
       "    </tr>\n",
       "    <tr>\n",
       "      <th>2013-02-27 23:31:00</th>\n",
       "      <td>-0.396924</td>\n",
       "    </tr>\n",
       "    <tr>\n",
       "      <th>2013-02-27 23:32:00</th>\n",
       "      <td>-0.902858</td>\n",
       "    </tr>\n",
       "    <tr>\n",
       "      <th>2013-02-27 23:33:00</th>\n",
       "      <td>-1.929475</td>\n",
       "    </tr>\n",
       "    <tr>\n",
       "      <th>2013-02-27 23:34:00</th>\n",
       "      <td>-0.158358</td>\n",
       "    </tr>\n",
       "    <tr>\n",
       "      <th>2013-02-27 23:35:00</th>\n",
       "      <td>1.221926</td>\n",
       "    </tr>\n",
       "    <tr>\n",
       "      <th>2013-02-27 23:36:00</th>\n",
       "      <td>-1.325303</td>\n",
       "    </tr>\n",
       "    <tr>\n",
       "      <th>2013-02-27 23:37:00</th>\n",
       "      <td>-1.625649</td>\n",
       "    </tr>\n",
       "    <tr>\n",
       "      <th>2013-02-27 23:38:00</th>\n",
       "      <td>-1.341327</td>\n",
       "    </tr>\n",
       "    <tr>\n",
       "      <th>2013-02-27 23:39:00</th>\n",
       "      <td>0.407917</td>\n",
       "    </tr>\n",
       "    <tr>\n",
       "      <th>2013-02-27 23:40:00</th>\n",
       "      <td>0.555222</td>\n",
       "    </tr>\n",
       "    <tr>\n",
       "      <th>2013-02-27 23:41:00</th>\n",
       "      <td>-0.931116</td>\n",
       "    </tr>\n",
       "    <tr>\n",
       "      <th>2013-02-27 23:42:00</th>\n",
       "      <td>-0.990943</td>\n",
       "    </tr>\n",
       "    <tr>\n",
       "      <th>2013-02-27 23:43:00</th>\n",
       "      <td>0.682509</td>\n",
       "    </tr>\n",
       "    <tr>\n",
       "      <th>2013-02-27 23:44:00</th>\n",
       "      <td>-0.114535</td>\n",
       "    </tr>\n",
       "    <tr>\n",
       "      <th>2013-02-27 23:45:00</th>\n",
       "      <td>0.865254</td>\n",
       "    </tr>\n",
       "    <tr>\n",
       "      <th>2013-02-27 23:46:00</th>\n",
       "      <td>-1.406367</td>\n",
       "    </tr>\n",
       "    <tr>\n",
       "      <th>2013-02-27 23:47:00</th>\n",
       "      <td>0.758275</td>\n",
       "    </tr>\n",
       "    <tr>\n",
       "      <th>2013-02-27 23:48:00</th>\n",
       "      <td>-3.578551</td>\n",
       "    </tr>\n",
       "    <tr>\n",
       "      <th>2013-02-27 23:49:00</th>\n",
       "      <td>1.997187</td>\n",
       "    </tr>\n",
       "    <tr>\n",
       "      <th>2013-02-27 23:50:00</th>\n",
       "      <td>0.621319</td>\n",
       "    </tr>\n",
       "    <tr>\n",
       "      <th>2013-02-27 23:51:00</th>\n",
       "      <td>-0.343089</td>\n",
       "    </tr>\n",
       "    <tr>\n",
       "      <th>2013-02-27 23:52:00</th>\n",
       "      <td>-1.227933</td>\n",
       "    </tr>\n",
       "    <tr>\n",
       "      <th>2013-02-27 23:53:00</th>\n",
       "      <td>-0.098101</td>\n",
       "    </tr>\n",
       "    <tr>\n",
       "      <th>2013-02-27 23:54:00</th>\n",
       "      <td>1.651826</td>\n",
       "    </tr>\n",
       "    <tr>\n",
       "      <th>2013-02-27 23:55:00</th>\n",
       "      <td>-0.907534</td>\n",
       "    </tr>\n",
       "    <tr>\n",
       "      <th>2013-02-27 23:56:00</th>\n",
       "      <td>0.539948</td>\n",
       "    </tr>\n",
       "    <tr>\n",
       "      <th>2013-02-27 23:57:00</th>\n",
       "      <td>-0.606369</td>\n",
       "    </tr>\n",
       "    <tr>\n",
       "      <th>2013-02-27 23:58:00</th>\n",
       "      <td>1.193133</td>\n",
       "    </tr>\n",
       "    <tr>\n",
       "      <th>2013-02-27 23:59:00</th>\n",
       "      <td>-1.117494</td>\n",
       "    </tr>\n",
       "    <tr>\n",
       "      <th>2013-02-28 00:00:00</th>\n",
       "      <td>0.588035</td>\n",
       "    </tr>\n",
       "  </tbody>\n",
       "</table>\n",
       "<p>83521 rows × 1 columns</p>\n",
       "</div>"
      ],
      "text/plain": [
       "                            A\n",
       "2013-01-01 00:00:00 -0.477545\n",
       "2013-01-01 00:01:00  0.234036\n",
       "2013-01-01 00:02:00  1.166847\n",
       "2013-01-01 00:03:00 -0.873448\n",
       "2013-01-01 00:04:00 -1.679711\n",
       "2013-01-01 00:05:00  0.840153\n",
       "2013-01-01 00:06:00 -0.673892\n",
       "2013-01-01 00:07:00 -0.759327\n",
       "2013-01-01 00:08:00  1.434083\n",
       "2013-01-01 00:09:00  0.700347\n",
       "2013-01-01 00:10:00 -0.299588\n",
       "2013-01-01 00:11:00 -0.731556\n",
       "2013-01-01 00:12:00 -0.068991\n",
       "2013-01-01 00:13:00 -0.013146\n",
       "2013-01-01 00:14:00  1.408342\n",
       "2013-01-01 00:15:00 -0.200264\n",
       "2013-01-01 00:16:00  0.675707\n",
       "2013-01-01 00:17:00 -0.785004\n",
       "2013-01-01 00:18:00  0.436293\n",
       "2013-01-01 00:19:00  0.684038\n",
       "2013-01-01 00:20:00  0.917021\n",
       "2013-01-01 00:21:00 -0.927074\n",
       "2013-01-01 00:22:00 -0.444897\n",
       "2013-01-01 00:23:00 -0.483204\n",
       "2013-01-01 00:24:00  2.223770\n",
       "2013-01-01 00:25:00 -1.167867\n",
       "2013-01-01 00:26:00 -0.087384\n",
       "2013-01-01 00:27:00 -0.128358\n",
       "2013-01-01 00:28:00  0.645909\n",
       "2013-01-01 00:29:00 -1.565333\n",
       "...                       ...\n",
       "2013-02-27 23:31:00 -0.396924\n",
       "2013-02-27 23:32:00 -0.902858\n",
       "2013-02-27 23:33:00 -1.929475\n",
       "2013-02-27 23:34:00 -0.158358\n",
       "2013-02-27 23:35:00  1.221926\n",
       "2013-02-27 23:36:00 -1.325303\n",
       "2013-02-27 23:37:00 -1.625649\n",
       "2013-02-27 23:38:00 -1.341327\n",
       "2013-02-27 23:39:00  0.407917\n",
       "2013-02-27 23:40:00  0.555222\n",
       "2013-02-27 23:41:00 -0.931116\n",
       "2013-02-27 23:42:00 -0.990943\n",
       "2013-02-27 23:43:00  0.682509\n",
       "2013-02-27 23:44:00 -0.114535\n",
       "2013-02-27 23:45:00  0.865254\n",
       "2013-02-27 23:46:00 -1.406367\n",
       "2013-02-27 23:47:00  0.758275\n",
       "2013-02-27 23:48:00 -3.578551\n",
       "2013-02-27 23:49:00  1.997187\n",
       "2013-02-27 23:50:00  0.621319\n",
       "2013-02-27 23:51:00 -0.343089\n",
       "2013-02-27 23:52:00 -1.227933\n",
       "2013-02-27 23:53:00 -0.098101\n",
       "2013-02-27 23:54:00  1.651826\n",
       "2013-02-27 23:55:00 -0.907534\n",
       "2013-02-27 23:56:00  0.539948\n",
       "2013-02-27 23:57:00 -0.606369\n",
       "2013-02-27 23:58:00  1.193133\n",
       "2013-02-27 23:59:00 -1.117494\n",
       "2013-02-28 00:00:00  0.588035\n",
       "\n",
       "[83521 rows x 1 columns]"
      ]
     },
     "execution_count": 34,
     "metadata": {},
     "output_type": "execute_result"
    }
   ],
   "source": [
    "dft['2013-1':'2013-2-28 00:00:00']"
   ]
  },
  {
   "cell_type": "code",
   "execution_count": 37,
   "metadata": {
    "collapsed": false
   },
   "outputs": [
    {
     "data": {
      "text/html": [
       "<div>\n",
       "<table border=\"1\" class=\"dataframe\">\n",
       "  <thead>\n",
       "    <tr style=\"text-align: right;\">\n",
       "      <th></th>\n",
       "      <th>A</th>\n",
       "    </tr>\n",
       "  </thead>\n",
       "  <tbody>\n",
       "    <tr>\n",
       "      <th>2013-01-01 10:12:00</th>\n",
       "      <td>-0.403008</td>\n",
       "    </tr>\n",
       "    <tr>\n",
       "      <th>2013-01-01 10:13:00</th>\n",
       "      <td>0.888679</td>\n",
       "    </tr>\n",
       "    <tr>\n",
       "      <th>2013-01-01 10:14:00</th>\n",
       "      <td>0.277742</td>\n",
       "    </tr>\n",
       "    <tr>\n",
       "      <th>2013-01-01 10:15:00</th>\n",
       "      <td>-0.779419</td>\n",
       "    </tr>\n",
       "    <tr>\n",
       "      <th>2013-01-01 10:16:00</th>\n",
       "      <td>1.141990</td>\n",
       "    </tr>\n",
       "    <tr>\n",
       "      <th>2013-01-01 10:17:00</th>\n",
       "      <td>-0.673308</td>\n",
       "    </tr>\n",
       "    <tr>\n",
       "      <th>2013-01-01 10:18:00</th>\n",
       "      <td>0.398131</td>\n",
       "    </tr>\n",
       "    <tr>\n",
       "      <th>2013-01-01 10:19:00</th>\n",
       "      <td>2.425367</td>\n",
       "    </tr>\n",
       "    <tr>\n",
       "      <th>2013-01-01 10:20:00</th>\n",
       "      <td>0.222573</td>\n",
       "    </tr>\n",
       "    <tr>\n",
       "      <th>2013-01-01 10:21:00</th>\n",
       "      <td>0.970120</td>\n",
       "    </tr>\n",
       "    <tr>\n",
       "      <th>2013-01-01 10:22:00</th>\n",
       "      <td>-0.936384</td>\n",
       "    </tr>\n",
       "    <tr>\n",
       "      <th>2013-01-01 10:23:00</th>\n",
       "      <td>0.265574</td>\n",
       "    </tr>\n",
       "    <tr>\n",
       "      <th>2013-01-01 10:24:00</th>\n",
       "      <td>-0.674641</td>\n",
       "    </tr>\n",
       "    <tr>\n",
       "      <th>2013-01-01 10:25:00</th>\n",
       "      <td>0.382293</td>\n",
       "    </tr>\n",
       "    <tr>\n",
       "      <th>2013-01-01 10:26:00</th>\n",
       "      <td>-0.002697</td>\n",
       "    </tr>\n",
       "    <tr>\n",
       "      <th>2013-01-01 10:27:00</th>\n",
       "      <td>0.317170</td>\n",
       "    </tr>\n",
       "    <tr>\n",
       "      <th>2013-01-01 10:28:00</th>\n",
       "      <td>-0.588778</td>\n",
       "    </tr>\n",
       "    <tr>\n",
       "      <th>2013-01-01 10:29:00</th>\n",
       "      <td>0.012202</td>\n",
       "    </tr>\n",
       "    <tr>\n",
       "      <th>2013-01-01 10:30:00</th>\n",
       "      <td>-0.454589</td>\n",
       "    </tr>\n",
       "    <tr>\n",
       "      <th>2013-01-01 10:31:00</th>\n",
       "      <td>0.490868</td>\n",
       "    </tr>\n",
       "    <tr>\n",
       "      <th>2013-01-01 10:32:00</th>\n",
       "      <td>1.248332</td>\n",
       "    </tr>\n",
       "    <tr>\n",
       "      <th>2013-01-01 10:33:00</th>\n",
       "      <td>1.432132</td>\n",
       "    </tr>\n",
       "    <tr>\n",
       "      <th>2013-01-01 10:34:00</th>\n",
       "      <td>-0.680582</td>\n",
       "    </tr>\n",
       "    <tr>\n",
       "      <th>2013-01-01 10:35:00</th>\n",
       "      <td>-0.618111</td>\n",
       "    </tr>\n",
       "    <tr>\n",
       "      <th>2013-01-01 10:36:00</th>\n",
       "      <td>2.043680</td>\n",
       "    </tr>\n",
       "    <tr>\n",
       "      <th>2013-01-01 10:37:00</th>\n",
       "      <td>-0.769382</td>\n",
       "    </tr>\n",
       "    <tr>\n",
       "      <th>2013-01-01 10:38:00</th>\n",
       "      <td>-0.630921</td>\n",
       "    </tr>\n",
       "    <tr>\n",
       "      <th>2013-01-01 10:39:00</th>\n",
       "      <td>-0.565366</td>\n",
       "    </tr>\n",
       "    <tr>\n",
       "      <th>2013-01-01 10:40:00</th>\n",
       "      <td>-0.952214</td>\n",
       "    </tr>\n",
       "    <tr>\n",
       "      <th>2013-01-01 10:41:00</th>\n",
       "      <td>1.423487</td>\n",
       "    </tr>\n",
       "    <tr>\n",
       "      <th>...</th>\n",
       "      <td>...</td>\n",
       "    </tr>\n",
       "    <tr>\n",
       "      <th>2013-02-28 09:43:00</th>\n",
       "      <td>-0.158017</td>\n",
       "    </tr>\n",
       "    <tr>\n",
       "      <th>2013-02-28 09:44:00</th>\n",
       "      <td>-0.558770</td>\n",
       "    </tr>\n",
       "    <tr>\n",
       "      <th>2013-02-28 09:45:00</th>\n",
       "      <td>-1.570252</td>\n",
       "    </tr>\n",
       "    <tr>\n",
       "      <th>2013-02-28 09:46:00</th>\n",
       "      <td>-0.081530</td>\n",
       "    </tr>\n",
       "    <tr>\n",
       "      <th>2013-02-28 09:47:00</th>\n",
       "      <td>-0.282629</td>\n",
       "    </tr>\n",
       "    <tr>\n",
       "      <th>2013-02-28 09:48:00</th>\n",
       "      <td>0.158429</td>\n",
       "    </tr>\n",
       "    <tr>\n",
       "      <th>2013-02-28 09:49:00</th>\n",
       "      <td>1.146360</td>\n",
       "    </tr>\n",
       "    <tr>\n",
       "      <th>2013-02-28 09:50:00</th>\n",
       "      <td>0.306264</td>\n",
       "    </tr>\n",
       "    <tr>\n",
       "      <th>2013-02-28 09:51:00</th>\n",
       "      <td>-0.598188</td>\n",
       "    </tr>\n",
       "    <tr>\n",
       "      <th>2013-02-28 09:52:00</th>\n",
       "      <td>-0.410423</td>\n",
       "    </tr>\n",
       "    <tr>\n",
       "      <th>2013-02-28 09:53:00</th>\n",
       "      <td>-3.111699</td>\n",
       "    </tr>\n",
       "    <tr>\n",
       "      <th>2013-02-28 09:54:00</th>\n",
       "      <td>-0.329579</td>\n",
       "    </tr>\n",
       "    <tr>\n",
       "      <th>2013-02-28 09:55:00</th>\n",
       "      <td>0.995677</td>\n",
       "    </tr>\n",
       "    <tr>\n",
       "      <th>2013-02-28 09:56:00</th>\n",
       "      <td>-1.979169</td>\n",
       "    </tr>\n",
       "    <tr>\n",
       "      <th>2013-02-28 09:57:00</th>\n",
       "      <td>-0.128574</td>\n",
       "    </tr>\n",
       "    <tr>\n",
       "      <th>2013-02-28 09:58:00</th>\n",
       "      <td>1.454180</td>\n",
       "    </tr>\n",
       "    <tr>\n",
       "      <th>2013-02-28 09:59:00</th>\n",
       "      <td>-2.091243</td>\n",
       "    </tr>\n",
       "    <tr>\n",
       "      <th>2013-02-28 10:00:00</th>\n",
       "      <td>0.007429</td>\n",
       "    </tr>\n",
       "    <tr>\n",
       "      <th>2013-02-28 10:01:00</th>\n",
       "      <td>0.553544</td>\n",
       "    </tr>\n",
       "    <tr>\n",
       "      <th>2013-02-28 10:02:00</th>\n",
       "      <td>1.037222</td>\n",
       "    </tr>\n",
       "    <tr>\n",
       "      <th>2013-02-28 10:03:00</th>\n",
       "      <td>0.114026</td>\n",
       "    </tr>\n",
       "    <tr>\n",
       "      <th>2013-02-28 10:04:00</th>\n",
       "      <td>-0.375370</td>\n",
       "    </tr>\n",
       "    <tr>\n",
       "      <th>2013-02-28 10:05:00</th>\n",
       "      <td>-0.244871</td>\n",
       "    </tr>\n",
       "    <tr>\n",
       "      <th>2013-02-28 10:06:00</th>\n",
       "      <td>-1.044481</td>\n",
       "    </tr>\n",
       "    <tr>\n",
       "      <th>2013-02-28 10:07:00</th>\n",
       "      <td>0.971493</td>\n",
       "    </tr>\n",
       "    <tr>\n",
       "      <th>2013-02-28 10:08:00</th>\n",
       "      <td>0.472227</td>\n",
       "    </tr>\n",
       "    <tr>\n",
       "      <th>2013-02-28 10:09:00</th>\n",
       "      <td>0.444436</td>\n",
       "    </tr>\n",
       "    <tr>\n",
       "      <th>2013-02-28 10:10:00</th>\n",
       "      <td>0.081283</td>\n",
       "    </tr>\n",
       "    <tr>\n",
       "      <th>2013-02-28 10:11:00</th>\n",
       "      <td>-0.387014</td>\n",
       "    </tr>\n",
       "    <tr>\n",
       "      <th>2013-02-28 10:12:00</th>\n",
       "      <td>-0.430022</td>\n",
       "    </tr>\n",
       "  </tbody>\n",
       "</table>\n",
       "<p>83521 rows × 1 columns</p>\n",
       "</div>"
      ],
      "text/plain": [
       "                            A\n",
       "2013-01-01 10:12:00 -0.403008\n",
       "2013-01-01 10:13:00  0.888679\n",
       "2013-01-01 10:14:00  0.277742\n",
       "2013-01-01 10:15:00 -0.779419\n",
       "2013-01-01 10:16:00  1.141990\n",
       "2013-01-01 10:17:00 -0.673308\n",
       "2013-01-01 10:18:00  0.398131\n",
       "2013-01-01 10:19:00  2.425367\n",
       "2013-01-01 10:20:00  0.222573\n",
       "2013-01-01 10:21:00  0.970120\n",
       "2013-01-01 10:22:00 -0.936384\n",
       "2013-01-01 10:23:00  0.265574\n",
       "2013-01-01 10:24:00 -0.674641\n",
       "2013-01-01 10:25:00  0.382293\n",
       "2013-01-01 10:26:00 -0.002697\n",
       "2013-01-01 10:27:00  0.317170\n",
       "2013-01-01 10:28:00 -0.588778\n",
       "2013-01-01 10:29:00  0.012202\n",
       "2013-01-01 10:30:00 -0.454589\n",
       "2013-01-01 10:31:00  0.490868\n",
       "2013-01-01 10:32:00  1.248332\n",
       "2013-01-01 10:33:00  1.432132\n",
       "2013-01-01 10:34:00 -0.680582\n",
       "2013-01-01 10:35:00 -0.618111\n",
       "2013-01-01 10:36:00  2.043680\n",
       "2013-01-01 10:37:00 -0.769382\n",
       "2013-01-01 10:38:00 -0.630921\n",
       "2013-01-01 10:39:00 -0.565366\n",
       "2013-01-01 10:40:00 -0.952214\n",
       "2013-01-01 10:41:00  1.423487\n",
       "...                       ...\n",
       "2013-02-28 09:43:00 -0.158017\n",
       "2013-02-28 09:44:00 -0.558770\n",
       "2013-02-28 09:45:00 -1.570252\n",
       "2013-02-28 09:46:00 -0.081530\n",
       "2013-02-28 09:47:00 -0.282629\n",
       "2013-02-28 09:48:00  0.158429\n",
       "2013-02-28 09:49:00  1.146360\n",
       "2013-02-28 09:50:00  0.306264\n",
       "2013-02-28 09:51:00 -0.598188\n",
       "2013-02-28 09:52:00 -0.410423\n",
       "2013-02-28 09:53:00 -3.111699\n",
       "2013-02-28 09:54:00 -0.329579\n",
       "2013-02-28 09:55:00  0.995677\n",
       "2013-02-28 09:56:00 -1.979169\n",
       "2013-02-28 09:57:00 -0.128574\n",
       "2013-02-28 09:58:00  1.454180\n",
       "2013-02-28 09:59:00 -2.091243\n",
       "2013-02-28 10:00:00  0.007429\n",
       "2013-02-28 10:01:00  0.553544\n",
       "2013-02-28 10:02:00  1.037222\n",
       "2013-02-28 10:03:00  0.114026\n",
       "2013-02-28 10:04:00 -0.375370\n",
       "2013-02-28 10:05:00 -0.244871\n",
       "2013-02-28 10:06:00 -1.044481\n",
       "2013-02-28 10:07:00  0.971493\n",
       "2013-02-28 10:08:00  0.472227\n",
       "2013-02-28 10:09:00  0.444436\n",
       "2013-02-28 10:10:00  0.081283\n",
       "2013-02-28 10:11:00 -0.387014\n",
       "2013-02-28 10:12:00 -0.430022\n",
       "\n",
       "[83521 rows x 1 columns]"
      ]
     },
     "execution_count": 37,
     "metadata": {},
     "output_type": "execute_result"
    }
   ],
   "source": [
    "dft[datetime(2013, 1, 1, 10, 12, 0):datetime(2013, 2, 28, 10, 12, 0)]"
   ]
  },
  {
   "cell_type": "code",
   "execution_count": 38,
   "metadata": {
    "collapsed": false
   },
   "outputs": [
    {
     "data": {
      "text/plain": [
       "2011-10-31    1.499188\n",
       "2011-11-30    0.829537\n",
       "2011-12-30    0.259246\n",
       "Freq: BM, dtype: float64"
      ]
     },
     "execution_count": 38,
     "metadata": {},
     "output_type": "execute_result"
    }
   ],
   "source": [
    "#  truncate 对时间index 的数据进行切片\n",
    "ts.truncate(before='10/31/2011', after='12/31/2011')"
   ]
  },
  {
   "cell_type": "code",
   "execution_count": 39,
   "metadata": {
    "collapsed": false
   },
   "outputs": [
    {
     "data": {
      "text/plain": [
       "DatetimeIndex(['2011-01-01 00:00:00', '2011-01-01 02:20:00',\n",
       "               '2011-01-01 04:40:00', '2011-01-01 07:00:00',\n",
       "               '2011-01-01 09:20:00', '2011-01-01 11:40:00',\n",
       "               '2011-01-01 14:00:00', '2011-01-01 16:20:00',\n",
       "               '2011-01-01 18:40:00', '2011-01-01 21:00:00'],\n",
       "              dtype='datetime64[ns]', freq='140T')"
      ]
     },
     "execution_count": 39,
     "metadata": {},
     "output_type": "execute_result"
    }
   ],
   "source": [
    "pd.date_range(start, periods=10, freq='2h20min')"
   ]
  },
  {
   "cell_type": "code",
   "execution_count": 41,
   "metadata": {
    "collapsed": false
   },
   "outputs": [
    {
     "data": {
      "text/plain": [
       "2011-01-31 00:00:00    0.144396\n",
       "2011-01-31 00:05:00         NaN\n",
       "2011-01-31 00:10:00         NaN\n",
       "2011-01-31 00:15:00         NaN\n",
       "2011-01-31 00:20:00         NaN\n",
       "2011-01-31 00:25:00         NaN\n",
       "2011-01-31 00:30:00         NaN\n",
       "2011-01-31 00:35:00         NaN\n",
       "2011-01-31 00:40:00         NaN\n",
       "2011-01-31 00:45:00         NaN\n",
       "2011-01-31 00:50:00         NaN\n",
       "2011-01-31 00:55:00         NaN\n",
       "2011-01-31 01:00:00         NaN\n",
       "2011-01-31 01:05:00         NaN\n",
       "2011-01-31 01:10:00         NaN\n",
       "2011-01-31 01:15:00         NaN\n",
       "2011-01-31 01:20:00         NaN\n",
       "2011-01-31 01:25:00         NaN\n",
       "2011-01-31 01:30:00         NaN\n",
       "2011-01-31 01:35:00         NaN\n",
       "2011-01-31 01:40:00         NaN\n",
       "2011-01-31 01:45:00         NaN\n",
       "2011-01-31 01:50:00         NaN\n",
       "2011-01-31 01:55:00         NaN\n",
       "2011-01-31 02:00:00         NaN\n",
       "2011-01-31 02:05:00         NaN\n",
       "2011-01-31 02:10:00         NaN\n",
       "2011-01-31 02:15:00         NaN\n",
       "2011-01-31 02:20:00         NaN\n",
       "2011-01-31 02:25:00         NaN\n",
       "                         ...   \n",
       "2011-12-29 21:35:00         NaN\n",
       "2011-12-29 21:40:00         NaN\n",
       "2011-12-29 21:45:00         NaN\n",
       "2011-12-29 21:50:00         NaN\n",
       "2011-12-29 21:55:00         NaN\n",
       "2011-12-29 22:00:00         NaN\n",
       "2011-12-29 22:05:00         NaN\n",
       "2011-12-29 22:10:00         NaN\n",
       "2011-12-29 22:15:00         NaN\n",
       "2011-12-29 22:20:00         NaN\n",
       "2011-12-29 22:25:00         NaN\n",
       "2011-12-29 22:30:00         NaN\n",
       "2011-12-29 22:35:00         NaN\n",
       "2011-12-29 22:40:00         NaN\n",
       "2011-12-29 22:45:00         NaN\n",
       "2011-12-29 22:50:00         NaN\n",
       "2011-12-29 22:55:00         NaN\n",
       "2011-12-29 23:00:00         NaN\n",
       "2011-12-29 23:05:00         NaN\n",
       "2011-12-29 23:10:00         NaN\n",
       "2011-12-29 23:15:00         NaN\n",
       "2011-12-29 23:20:00         NaN\n",
       "2011-12-29 23:25:00         NaN\n",
       "2011-12-29 23:30:00         NaN\n",
       "2011-12-29 23:35:00         NaN\n",
       "2011-12-29 23:40:00         NaN\n",
       "2011-12-29 23:45:00         NaN\n",
       "2011-12-29 23:50:00         NaN\n",
       "2011-12-29 23:55:00         NaN\n",
       "2011-12-30 00:00:00    0.259246\n",
       "Freq: 5T, dtype: float64"
      ]
     },
     "execution_count": 41,
     "metadata": {},
     "output_type": "execute_result"
    }
   ],
   "source": [
    "#Resampling 重新采样\n",
    "ts.resample('5Min').mean()\n"
   ]
  },
  {
   "cell_type": "code",
   "execution_count": null,
   "metadata": {
    "collapsed": true
   },
   "outputs": [],
   "source": []
  }
 ],
 "metadata": {
  "kernelspec": {
   "display_name": "Python 2",
   "language": "python",
   "name": "python2"
  },
  "language_info": {
   "codemirror_mode": {
    "name": "ipython",
    "version": 2
   },
   "file_extension": ".py",
   "mimetype": "text/x-python",
   "name": "python",
   "nbconvert_exporter": "python",
   "pygments_lexer": "ipython2",
   "version": "2.7.12"
  }
 },
 "nbformat": 4,
 "nbformat_minor": 2
}
